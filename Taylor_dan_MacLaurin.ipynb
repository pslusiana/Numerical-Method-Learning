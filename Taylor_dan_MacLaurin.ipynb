{
  "nbformat": 4,
  "nbformat_minor": 0,
  "metadata": {
    "colab": {
      "provenance": [],
      "authorship_tag": "ABX9TyPPI7dds61Su2eXBB9rzmlB",
      "include_colab_link": true
    },
    "kernelspec": {
      "name": "python3",
      "display_name": "Python 3"
    },
    "language_info": {
      "name": "python"
    }
  },
  "cells": [
    {
      "cell_type": "markdown",
      "metadata": {
        "id": "view-in-github",
        "colab_type": "text"
      },
      "source": [
        "<a href=\"https://colab.research.google.com/github/pslusiana/Numerical-Method-Learning/blob/main/Taylor_dan_MacLaurin.ipynb\" target=\"_parent\"><img src=\"https://colab.research.google.com/assets/colab-badge.svg\" alt=\"Open In Colab\"/></a>"
      ]
    },
    {
      "cell_type": "code",
      "execution_count": 1,
      "metadata": {
        "colab": {
          "base_uri": "https://localhost:8080/"
        },
        "id": "NB6wyUcYvO2a",
        "outputId": "d74bcfae-287f-4ab9-a942-2b79ca847b15"
      },
      "outputs": [
        {
          "output_type": "stream",
          "name": "stdout",
          "text": [
            "Deret Taylor orde 2 untuk fungsi ln(x) sekitar x = 1:\n",
            "x - (x - 1)**2/2 - 1\n",
            "\n",
            "Nilai sebenarnya fungsi ln(x) di x=1.1: 0.0953101798043249\n",
            "Nilai fungsi dengan deret Taylor (a=1) di x=1.1: 0.0950000000000001\n",
            "Error absolut antara nilai Taylor dan nilai sebenarnya: 0.000310179804324850\n"
          ]
        }
      ],
      "source": [
        "import sympy as sp\n",
        "\n",
        "# Fungsi yang akan dihitung\n",
        "def example_func(x):\n",
        "    return sp.ln(x) #Input fungsi\n",
        "\n",
        "# Nama fungsi yang sesuai\n",
        "function_name = \"ln(x)\"  # Nama fungsi\n",
        "\n",
        "# Definisikan variabel simbolik\n",
        "x = sp.symbols('x')\n",
        "\n",
        "# Titik sekitar untuk deret Taylor\n",
        "a_value = 1\n",
        "\n",
        "# Jumlah suku yang digunakan dalam deret Taylor (orde = jumlah suku - 1)\n",
        "n_terms = 3\n",
        "\n",
        "# Menghitung turunan dari f(x) secara simbolik\n",
        "# Deret Taylor membutuhkan turunan hingga orde ke-n, jadi hitung semua turunan yang diperlukan\n",
        "derivatives = [example_func(x)]  # Turunan 0 (fungsi itu sendiri)\n",
        "for i in range(1, n_terms):\n",
        "    derivatives.append(sp.diff(derivatives[i - 1], x))\n",
        "\n",
        "# Susun deret Taylor\n",
        "taylor_series = 0\n",
        "for i in range(n_terms):\n",
        "    term = derivatives[i].subs(x, a_value) * (x - a_value)**i / sp.factorial(i)\n",
        "    taylor_series += term\n",
        "\n",
        "# Menampilkan hasil deret Taylor\n",
        "print(f\"Deret Taylor orde {n_terms-1} untuk fungsi {function_name} sekitar x = {a_value}:\")\n",
        "print(taylor_series)\n",
        "\n",
        "# Menghitung nilai fungsi di titik tertentu menggunakan deret Taylor\n",
        "x_value = 1.1  # Titik tempat menghitung nilai deret Taylor\n",
        "taylor_result = taylor_series.subs(x, x_value)\n",
        "\n",
        "# Nilai sebenarnya dari fungsi\n",
        "actual_result = example_func(x_value)\n",
        "\n",
        "# Menghitung error relatif\n",
        "error = abs(actual_result - taylor_result)  # Error absolut\n",
        "\n",
        "# Menampilkan hasil\n",
        "print(f\"\\nNilai sebenarnya fungsi {function_name} di x={x_value}: {actual_result}\")\n",
        "print(f\"Nilai fungsi dengan deret Taylor (a={a_value}) di x={x_value}: {taylor_result}\")\n",
        "print(f\"Error absolut antara nilai Taylor dan nilai sebenarnya: {error}\")\n"
      ]
    },
    {
      "cell_type": "code",
      "source": [
        "import sympy as sp\n",
        "\n",
        "# Fungsi yang akan dihitung\n",
        "def example_func(x):\n",
        "    return sp.sin(x) #Input fungsi\n",
        "\n",
        "# Nama fungsi yang sesuai\n",
        "function_name = \"sin(x)\"  # Nama fungsi\n",
        "\n",
        "# Definisikan variabel simbolik\n",
        "x = sp.symbols('x')\n",
        "\n",
        "# Titik sekitar untuk deret Maclaurin (di sini a = 0)\n",
        "a_value = 0\n",
        "\n",
        "# Jumlah suku yang digunakan dalam deret Maclaurin (orde = jumlah suku - 1)\n",
        "n_terms = 10\n",
        "\n",
        "# Menghitung turunan dari f(x) secara simbolik\n",
        "# Deret Maclaurin membutuhkan turunan hingga orde ke-n, jadi hitung semua turunan yang diperlukan\n",
        "derivatives = [example_func(x)]  # Turunan 0 (fungsi itu sendiri)\n",
        "for i in range(1, n_terms):\n",
        "    derivatives.append(sp.diff(derivatives[i - 1], x))\n",
        "\n",
        "# Susun deret Maclaurin\n",
        "maclaurin_series = 0\n",
        "for i in range(n_terms):\n",
        "    term = derivatives[i].subs(x, a_value) * (x - a_value)**i / sp.factorial(i)\n",
        "    maclaurin_series += term\n",
        "\n",
        "# Menampilkan hasil deret Maclaurin\n",
        "print(f\"Deret Maclaurin orde {n_terms-1} untuk fungsi {function_name} sekitar x = {a_value}:\")\n",
        "print(maclaurin_series)\n",
        "\n",
        "# Menghitung nilai fungsi di titik tertentu menggunakan deret Maclaurin\n",
        "x_value = 0.2  # Titik tempat kita menghitung nilai deret Maclaurin\n",
        "maclaurin_result = maclaurin_series.subs(x, x_value)\n",
        "\n",
        "# Nilai sebenarnya dari fungsi\n",
        "actual_result = example_func(x_value)\n",
        "\n",
        "# Menghitung error relatif\n",
        "error = abs(actual_result - maclaurin_result)  # Error absolut\n",
        "\n",
        "# Menampilkan hasil\n",
        "print(f\"\\nNilai sebenarnya fungsi {function_name} di x={x_value}: {actual_result}\")\n",
        "print(f\"Nilai fungsi dengan deret Maclaurin (a={a_value}) di x={x_value}: {maclaurin_result}\")\n",
        "print(f\"Error absolut antara nilai Maclaurin dan nilai sebenarnya: {error}\")\n"
      ],
      "metadata": {
        "colab": {
          "base_uri": "https://localhost:8080/"
        },
        "id": "qrDEneMf4Hcn",
        "outputId": "a3a21ff8-0a49-4a84-f2a9-66cdfa7a405b"
      },
      "execution_count": 2,
      "outputs": [
        {
          "output_type": "stream",
          "name": "stdout",
          "text": [
            "Deret Maclaurin orde 9 untuk fungsi sin(x) sekitar x = 0:\n",
            "x**9/362880 - x**7/5040 + x**5/120 - x**3/6 + x\n",
            "\n",
            "Nilai sebenarnya fungsi sin(x) di x=0.2: 0.198669330795061\n",
            "Nilai fungsi dengan deret Maclaurin (a=0) di x=0.2: 0.198669330795062\n",
            "Error absolut antara nilai Maclaurin dan nilai sebenarnya: 5.27355936696949E-16\n"
          ]
        }
      ]
    }
  ]
}